{
 "cells": [
  {
   "cell_type": "markdown",
   "id": "215dc3c4",
   "metadata": {},
   "source": [
    "Importing Necessary  Libraries"
   ]
  },
  {
   "cell_type": "code",
   "execution_count": 1,
   "id": "7e37cc01",
   "metadata": {},
   "outputs": [],
   "source": [
    "import pandas as pd \n",
    "import numpy as np\n",
    "import matplotlib.pyplot as plt\n",
    "from sklearn import linear_model\n",
    "import seaborn as sns"
   ]
  },
  {
   "cell_type": "code",
   "execution_count": 2,
   "id": "46cc7e9a",
   "metadata": {},
   "outputs": [],
   "source": [
    "df=pd.read_csv('Data2.csv',encoding='latin1')"
   ]
  },
  {
   "cell_type": "code",
   "execution_count": 3,
   "id": "e9de95c5",
   "metadata": {},
   "outputs": [
    {
     "data": {
      "text/plain": [
       "(108, 12)"
      ]
     },
     "execution_count": 3,
     "metadata": {},
     "output_type": "execute_result"
    }
   ],
   "source": [
    "df.shape"
   ]
  },
  {
   "cell_type": "markdown",
   "id": "6cd6e77a",
   "metadata": {},
   "source": [
    "Checking null values"
   ]
  },
  {
   "cell_type": "code",
   "execution_count": 4,
   "id": "1f19d2f7",
   "metadata": {},
   "outputs": [
    {
     "name": "stdout",
     "output_type": "stream",
     "text": [
      "<class 'pandas.core.frame.DataFrame'>\n",
      "RangeIndex: 108 entries, 0 to 107\n",
      "Data columns (total 12 columns):\n",
      " #   Column                     Non-Null Count  Dtype  \n",
      "---  ------                     --------------  -----  \n",
      " 0   Welding speed(m/s)         108 non-null    float64\n",
      " 1   Rotation speed(rps)        108 non-null    float64\n",
      " 2   plate thickness(m)         108 non-null    float64\n",
      " 3   Shoulder\n",
      "radius(m)         108 non-null    float64\n",
      " 4   Axial\n",
      "pressure(Mpa)        108 non-null    float64\n",
      " 5   Pin root\n",
      "radius(m)         108 non-null    float64\n",
      " 6   pin tip radius(m)          108 non-null    float64\n",
      " 7   Tilt angle(degree)         108 non-null    float64\n",
      " 8   Thermal\n",
      "diffusivity(m2/s)  108 non-null    float64\n",
      " 9   Yield\n",
      "strength(Mpa)        108 non-null    int64  \n",
      " 10  Tempearture                108 non-null    float64\n",
      " 11  Result                     108 non-null    int64  \n",
      "dtypes: float64(10), int64(2)\n",
      "memory usage: 10.2 KB\n"
     ]
    }
   ],
   "source": [
    "df.info()"
   ]
  },
  {
   "cell_type": "code",
   "execution_count": 5,
   "id": "9bd1e300",
   "metadata": {},
   "outputs": [
    {
     "data": {
      "text/html": [
       "<div>\n",
       "<style scoped>\n",
       "    .dataframe tbody tr th:only-of-type {\n",
       "        vertical-align: middle;\n",
       "    }\n",
       "\n",
       "    .dataframe tbody tr th {\n",
       "        vertical-align: top;\n",
       "    }\n",
       "\n",
       "    .dataframe thead th {\n",
       "        text-align: right;\n",
       "    }\n",
       "</style>\n",
       "<table border=\"1\" class=\"dataframe\">\n",
       "  <thead>\n",
       "    <tr style=\"text-align: right;\">\n",
       "      <th></th>\n",
       "      <th>Welding speed(m/s)</th>\n",
       "      <th>Rotation speed(rps)</th>\n",
       "      <th>plate thickness(m)</th>\n",
       "      <th>Shoulder\\nradius(m)</th>\n",
       "      <th>Axial\\npressure(Mpa)</th>\n",
       "      <th>Pin root\\nradius(m)</th>\n",
       "      <th>pin tip radius(m)</th>\n",
       "      <th>Tilt angle(degree)</th>\n",
       "      <th>Thermal\\ndiffusivity(m2/s)</th>\n",
       "      <th>Yield\\nstrength(Mpa)</th>\n",
       "      <th>Tempearture</th>\n",
       "      <th>Result</th>\n",
       "    </tr>\n",
       "  </thead>\n",
       "  <tbody>\n",
       "    <tr>\n",
       "      <th>0</th>\n",
       "      <td>0.000583</td>\n",
       "      <td>13.33</td>\n",
       "      <td>0.004</td>\n",
       "      <td>0.01</td>\n",
       "      <td>13.0</td>\n",
       "      <td>0.0031</td>\n",
       "      <td>0.0009</td>\n",
       "      <td>2.0</td>\n",
       "      <td>0.00005</td>\n",
       "      <td>324</td>\n",
       "      <td>584.51</td>\n",
       "      <td>1</td>\n",
       "    </tr>\n",
       "    <tr>\n",
       "      <th>1</th>\n",
       "      <td>0.001170</td>\n",
       "      <td>13.33</td>\n",
       "      <td>0.004</td>\n",
       "      <td>0.01</td>\n",
       "      <td>13.0</td>\n",
       "      <td>0.0031</td>\n",
       "      <td>0.0009</td>\n",
       "      <td>2.0</td>\n",
       "      <td>0.00005</td>\n",
       "      <td>324</td>\n",
       "      <td>576.89</td>\n",
       "      <td>1</td>\n",
       "    </tr>\n",
       "    <tr>\n",
       "      <th>2</th>\n",
       "      <td>0.002330</td>\n",
       "      <td>13.33</td>\n",
       "      <td>0.004</td>\n",
       "      <td>0.01</td>\n",
       "      <td>13.0</td>\n",
       "      <td>0.0031</td>\n",
       "      <td>0.0009</td>\n",
       "      <td>2.0</td>\n",
       "      <td>0.00005</td>\n",
       "      <td>324</td>\n",
       "      <td>566.07</td>\n",
       "      <td>1</td>\n",
       "    </tr>\n",
       "    <tr>\n",
       "      <th>3</th>\n",
       "      <td>0.000583</td>\n",
       "      <td>16.67</td>\n",
       "      <td>0.004</td>\n",
       "      <td>0.01</td>\n",
       "      <td>13.0</td>\n",
       "      <td>0.0031</td>\n",
       "      <td>0.0009</td>\n",
       "      <td>2.0</td>\n",
       "      <td>0.00005</td>\n",
       "      <td>324</td>\n",
       "      <td>639.03</td>\n",
       "      <td>1</td>\n",
       "    </tr>\n",
       "    <tr>\n",
       "      <th>4</th>\n",
       "      <td>0.001170</td>\n",
       "      <td>16.67</td>\n",
       "      <td>0.004</td>\n",
       "      <td>0.01</td>\n",
       "      <td>13.0</td>\n",
       "      <td>0.0031</td>\n",
       "      <td>0.0009</td>\n",
       "      <td>2.0</td>\n",
       "      <td>0.00005</td>\n",
       "      <td>324</td>\n",
       "      <td>630.69</td>\n",
       "      <td>1</td>\n",
       "    </tr>\n",
       "  </tbody>\n",
       "</table>\n",
       "</div>"
      ],
      "text/plain": [
       "   Welding speed(m/s)  Rotation speed(rps)  plate thickness(m)  \\\n",
       "0            0.000583                13.33               0.004   \n",
       "1            0.001170                13.33               0.004   \n",
       "2            0.002330                13.33               0.004   \n",
       "3            0.000583                16.67               0.004   \n",
       "4            0.001170                16.67               0.004   \n",
       "\n",
       "   Shoulder\\nradius(m)  Axial\\npressure(Mpa)  Pin root\\nradius(m)  \\\n",
       "0                 0.01                  13.0               0.0031   \n",
       "1                 0.01                  13.0               0.0031   \n",
       "2                 0.01                  13.0               0.0031   \n",
       "3                 0.01                  13.0               0.0031   \n",
       "4                 0.01                  13.0               0.0031   \n",
       "\n",
       "   pin tip radius(m)  Tilt angle(degree)  Thermal\\ndiffusivity(m2/s)  \\\n",
       "0             0.0009                 2.0                     0.00005   \n",
       "1             0.0009                 2.0                     0.00005   \n",
       "2             0.0009                 2.0                     0.00005   \n",
       "3             0.0009                 2.0                     0.00005   \n",
       "4             0.0009                 2.0                     0.00005   \n",
       "\n",
       "   Yield\\nstrength(Mpa)  Tempearture  Result  \n",
       "0                   324       584.51       1  \n",
       "1                   324       576.89       1  \n",
       "2                   324       566.07       1  \n",
       "3                   324       639.03       1  \n",
       "4                   324       630.69       1  "
      ]
     },
     "execution_count": 5,
     "metadata": {},
     "output_type": "execute_result"
    }
   ],
   "source": [
    "df.head()"
   ]
  },
  {
   "cell_type": "markdown",
   "id": "d8a03428",
   "metadata": {},
   "source": [
    "Void Present --> 1"
   ]
  },
  {
   "cell_type": "code",
   "execution_count": 6,
   "id": "209bb33a",
   "metadata": {},
   "outputs": [
    {
     "data": {
      "text/plain": [
       "(43, 12)"
      ]
     },
     "execution_count": 6,
     "metadata": {},
     "output_type": "execute_result"
    }
   ],
   "source": [
    "voids=df[df.Result==1]\n",
    "voids.shape"
   ]
  },
  {
   "cell_type": "markdown",
   "id": "ef2dafa4",
   "metadata": {},
   "source": [
    " No Voids --> 0"
   ]
  },
  {
   "cell_type": "code",
   "execution_count": 7,
   "id": "772ec0af",
   "metadata": {},
   "outputs": [
    {
     "data": {
      "text/plain": [
       "(65, 12)"
      ]
     },
     "execution_count": 7,
     "metadata": {},
     "output_type": "execute_result"
    }
   ],
   "source": [
    "No_voids=df[df.Result==0]\n",
    "No_voids.shape"
   ]
  },
  {
   "cell_type": "markdown",
   "id": "139629a7",
   "metadata": {},
   "source": [
    "Data visualization by Mean and Median"
   ]
  },
  {
   "cell_type": "code",
   "execution_count": 8,
   "id": "8f495297",
   "metadata": {},
   "outputs": [
    {
     "data": {
      "text/html": [
       "<div>\n",
       "<style scoped>\n",
       "    .dataframe tbody tr th:only-of-type {\n",
       "        vertical-align: middle;\n",
       "    }\n",
       "\n",
       "    .dataframe tbody tr th {\n",
       "        vertical-align: top;\n",
       "    }\n",
       "\n",
       "    .dataframe thead th {\n",
       "        text-align: right;\n",
       "    }\n",
       "</style>\n",
       "<table border=\"1\" class=\"dataframe\">\n",
       "  <thead>\n",
       "    <tr style=\"text-align: right;\">\n",
       "      <th></th>\n",
       "      <th>Welding speed(m/s)</th>\n",
       "      <th>Rotation speed(rps)</th>\n",
       "      <th>plate thickness(m)</th>\n",
       "      <th>Shoulder\\nradius(m)</th>\n",
       "      <th>Axial\\npressure(Mpa)</th>\n",
       "      <th>Pin root\\nradius(m)</th>\n",
       "      <th>pin tip radius(m)</th>\n",
       "      <th>Tilt angle(degree)</th>\n",
       "      <th>Thermal\\ndiffusivity(m2/s)</th>\n",
       "      <th>Yield\\nstrength(Mpa)</th>\n",
       "      <th>Tempearture</th>\n",
       "    </tr>\n",
       "    <tr>\n",
       "      <th>Result</th>\n",
       "      <th></th>\n",
       "      <th></th>\n",
       "      <th></th>\n",
       "      <th></th>\n",
       "      <th></th>\n",
       "      <th></th>\n",
       "      <th></th>\n",
       "      <th></th>\n",
       "      <th></th>\n",
       "      <th></th>\n",
       "      <th></th>\n",
       "    </tr>\n",
       "  </thead>\n",
       "  <tbody>\n",
       "    <tr>\n",
       "      <th>0</th>\n",
       "      <td>0.002825</td>\n",
       "      <td>19.079077</td>\n",
       "      <td>0.006042</td>\n",
       "      <td>0.009588</td>\n",
       "      <td>15.685538</td>\n",
       "      <td>0.003287</td>\n",
       "      <td>0.002341</td>\n",
       "      <td>2.092308</td>\n",
       "      <td>0.000057</td>\n",
       "      <td>313.846154</td>\n",
       "      <td>693.414769</td>\n",
       "    </tr>\n",
       "    <tr>\n",
       "      <th>1</th>\n",
       "      <td>0.002594</td>\n",
       "      <td>12.398140</td>\n",
       "      <td>0.006127</td>\n",
       "      <td>0.009665</td>\n",
       "      <td>13.368372</td>\n",
       "      <td>0.003303</td>\n",
       "      <td>0.002362</td>\n",
       "      <td>2.081395</td>\n",
       "      <td>0.000055</td>\n",
       "      <td>317.767442</td>\n",
       "      <td>596.909070</td>\n",
       "    </tr>\n",
       "  </tbody>\n",
       "</table>\n",
       "</div>"
      ],
      "text/plain": [
       "        Welding speed(m/s)  Rotation speed(rps)  plate thickness(m)  \\\n",
       "Result                                                                \n",
       "0                 0.002825            19.079077            0.006042   \n",
       "1                 0.002594            12.398140            0.006127   \n",
       "\n",
       "        Shoulder\\nradius(m)  Axial\\npressure(Mpa)  Pin root\\nradius(m)  \\\n",
       "Result                                                                   \n",
       "0                  0.009588             15.685538             0.003287   \n",
       "1                  0.009665             13.368372             0.003303   \n",
       "\n",
       "        pin tip radius(m)  Tilt angle(degree)  Thermal\\ndiffusivity(m2/s)  \\\n",
       "Result                                                                      \n",
       "0                0.002341            2.092308                    0.000057   \n",
       "1                0.002362            2.081395                    0.000055   \n",
       "\n",
       "        Yield\\nstrength(Mpa)  Tempearture  \n",
       "Result                                     \n",
       "0                 313.846154   693.414769  \n",
       "1                 317.767442   596.909070  "
      ]
     },
     "execution_count": 8,
     "metadata": {},
     "output_type": "execute_result"
    }
   ],
   "source": [
    "df.groupby('Result').mean()"
   ]
  },
  {
   "cell_type": "code",
   "execution_count": 9,
   "id": "efcef6ec",
   "metadata": {},
   "outputs": [
    {
     "data": {
      "text/html": [
       "<div>\n",
       "<style scoped>\n",
       "    .dataframe tbody tr th:only-of-type {\n",
       "        vertical-align: middle;\n",
       "    }\n",
       "\n",
       "    .dataframe tbody tr th {\n",
       "        vertical-align: top;\n",
       "    }\n",
       "\n",
       "    .dataframe thead th {\n",
       "        text-align: right;\n",
       "    }\n",
       "</style>\n",
       "<table border=\"1\" class=\"dataframe\">\n",
       "  <thead>\n",
       "    <tr style=\"text-align: right;\">\n",
       "      <th></th>\n",
       "      <th>Welding speed(m/s)</th>\n",
       "      <th>Rotation speed(rps)</th>\n",
       "      <th>plate thickness(m)</th>\n",
       "      <th>Shoulder\\nradius(m)</th>\n",
       "      <th>Axial\\npressure(Mpa)</th>\n",
       "      <th>Pin root\\nradius(m)</th>\n",
       "      <th>pin tip radius(m)</th>\n",
       "      <th>Tilt angle(degree)</th>\n",
       "      <th>Thermal\\ndiffusivity(m2/s)</th>\n",
       "      <th>Yield\\nstrength(Mpa)</th>\n",
       "      <th>Tempearture</th>\n",
       "    </tr>\n",
       "    <tr>\n",
       "      <th>Result</th>\n",
       "      <th></th>\n",
       "      <th></th>\n",
       "      <th></th>\n",
       "      <th></th>\n",
       "      <th></th>\n",
       "      <th></th>\n",
       "      <th></th>\n",
       "      <th></th>\n",
       "      <th></th>\n",
       "      <th></th>\n",
       "      <th></th>\n",
       "    </tr>\n",
       "  </thead>\n",
       "  <tbody>\n",
       "    <tr>\n",
       "      <th>0</th>\n",
       "      <td>0.00167</td>\n",
       "      <td>18.67</td>\n",
       "      <td>0.006</td>\n",
       "      <td>0.009</td>\n",
       "      <td>13.0</td>\n",
       "      <td>0.003</td>\n",
       "      <td>0.00270</td>\n",
       "      <td>2.0</td>\n",
       "      <td>0.00005</td>\n",
       "      <td>324.0</td>\n",
       "      <td>708.82</td>\n",
       "    </tr>\n",
       "    <tr>\n",
       "      <th>1</th>\n",
       "      <td>0.00160</td>\n",
       "      <td>13.33</td>\n",
       "      <td>0.004</td>\n",
       "      <td>0.009</td>\n",
       "      <td>13.0</td>\n",
       "      <td>0.003</td>\n",
       "      <td>0.00295</td>\n",
       "      <td>2.0</td>\n",
       "      <td>0.00005</td>\n",
       "      <td>324.0</td>\n",
       "      <td>615.60</td>\n",
       "    </tr>\n",
       "  </tbody>\n",
       "</table>\n",
       "</div>"
      ],
      "text/plain": [
       "        Welding speed(m/s)  Rotation speed(rps)  plate thickness(m)  \\\n",
       "Result                                                                \n",
       "0                  0.00167                18.67               0.006   \n",
       "1                  0.00160                13.33               0.004   \n",
       "\n",
       "        Shoulder\\nradius(m)  Axial\\npressure(Mpa)  Pin root\\nradius(m)  \\\n",
       "Result                                                                   \n",
       "0                     0.009                  13.0                0.003   \n",
       "1                     0.009                  13.0                0.003   \n",
       "\n",
       "        pin tip radius(m)  Tilt angle(degree)  Thermal\\ndiffusivity(m2/s)  \\\n",
       "Result                                                                      \n",
       "0                 0.00270                 2.0                     0.00005   \n",
       "1                 0.00295                 2.0                     0.00005   \n",
       "\n",
       "        Yield\\nstrength(Mpa)  Tempearture  \n",
       "Result                                     \n",
       "0                      324.0       708.82  \n",
       "1                      324.0       615.60  "
      ]
     },
     "execution_count": 9,
     "metadata": {},
     "output_type": "execute_result"
    }
   ],
   "source": [
    "df.groupby('Result').median()"
   ]
  },
  {
   "cell_type": "markdown",
   "id": "baf18ce6",
   "metadata": {},
   "source": [
    "Separating independent and dependent Variable"
   ]
  },
  {
   "cell_type": "code",
   "execution_count": 10,
   "id": "2f08ca63",
   "metadata": {},
   "outputs": [
    {
     "data": {
      "text/plain": [
       "(108, 11)"
      ]
     },
     "execution_count": 10,
     "metadata": {},
     "output_type": "execute_result"
    }
   ],
   "source": [
    "X=df.drop(['Result'],axis=1)\n",
    "X.head()\n",
    "X.shape"
   ]
  },
  {
   "cell_type": "code",
   "execution_count": 11,
   "id": "d0827133",
   "metadata": {},
   "outputs": [
    {
     "data": {
      "text/plain": [
       "(108,)"
      ]
     },
     "execution_count": 11,
     "metadata": {},
     "output_type": "execute_result"
    }
   ],
   "source": [
    "Y=df['Result']\n",
    "Y.head()\n",
    "Y.shape"
   ]
  },
  {
   "cell_type": "code",
   "execution_count": 12,
   "id": "ab5d8358",
   "metadata": {},
   "outputs": [],
   "source": [
    "# using train test split to avoid overfitting\n",
    "from sklearn.model_selection import train_test_split\n",
    "X_train, X_test, Y_train, Y_test=train_test_split(X,Y,test_size=0.3,random_state=20)"
   ]
  },
  {
   "cell_type": "code",
   "execution_count": 13,
   "id": "6b2deb65",
   "metadata": {},
   "outputs": [
    {
     "data": {
      "text/plain": [
       "(75, 11)"
      ]
     },
     "execution_count": 13,
     "metadata": {},
     "output_type": "execute_result"
    }
   ],
   "source": [
    "X_train.shape"
   ]
  },
  {
   "cell_type": "code",
   "execution_count": 14,
   "id": "b2098d89",
   "metadata": {},
   "outputs": [
    {
     "data": {
      "text/plain": [
       "(75,)"
      ]
     },
     "execution_count": 14,
     "metadata": {},
     "output_type": "execute_result"
    }
   ],
   "source": [
    "Y_train.shape"
   ]
  },
  {
   "cell_type": "markdown",
   "id": "49b700fc",
   "metadata": {},
   "source": [
    "### <span style='color:Black'> Now we are doing some Feature Selection with the help of Mutual info classifier and Pearson Corelation </span>"
   ]
  },
  {
   "cell_type": "code",
   "execution_count": 15,
   "id": "11ded859",
   "metadata": {},
   "outputs": [
    {
     "data": {
      "text/plain": [
       "array([0.        , 0.2045572 , 0.01671064, 0.04135781, 0.        ,\n",
       "       0.01637586, 0.        , 0.02329746, 0.12663945, 0.        ,\n",
       "       0.17948072])"
      ]
     },
     "execution_count": 15,
     "metadata": {},
     "output_type": "execute_result"
    }
   ],
   "source": [
    "from sklearn.feature_selection import mutual_info_classif\n",
    "#determine the mutual information\n",
    "mutual_info=mutual_info_classif(X_train,Y_train)\n",
    "mutual_info"
   ]
  },
  {
   "cell_type": "code",
   "execution_count": 16,
   "id": "34a9b7d1",
   "metadata": {},
   "outputs": [
    {
     "data": {
      "text/plain": [
       "Rotation speed(rps)           0.204557\n",
       "Tempearture                   0.179481\n",
       "Thermal\\ndiffusivity(m2/s)    0.126639\n",
       "Shoulder\\nradius(m)           0.041358\n",
       "Tilt angle(degree)            0.023297\n",
       "plate thickness(m)            0.016711\n",
       "Pin root\\nradius(m)           0.016376\n",
       "Welding speed(m/s)            0.000000\n",
       "Axial\\npressure(Mpa)          0.000000\n",
       "pin tip radius(m)             0.000000\n",
       "Yield\\nstrength(Mpa)          0.000000\n",
       "dtype: float64"
      ]
     },
     "execution_count": 16,
     "metadata": {},
     "output_type": "execute_result"
    }
   ],
   "source": [
    "mutual_info=pd.Series(mutual_info)\n",
    "mutual_info.index=X_train.columns\n",
    "mutual_info.sort_values(ascending=False)"
   ]
  },
  {
   "cell_type": "code",
   "execution_count": 17,
   "id": "0dbc9cbc",
   "metadata": {},
   "outputs": [
    {
     "data": {
      "text/plain": [
       "<AxesSubplot: >"
      ]
     },
     "execution_count": 17,
     "metadata": {},
     "output_type": "execute_result"
    },
    {
     "data": {
      "image/png": "[encoded data removed]",
      "text/plain": [
       "<Figure size 600x600 with 1 Axes>"
      ]
     },
     "metadata": {},
     "output_type": "display_data"
    }
   ],
   "source": [
    "#lets plot the mutual_info values per feature\n",
    "mutual_info.sort_values(ascending=False).plot.bar(figsize=(6,6))"
   ]
  },
  {
   "cell_type": "code",
   "execution_count": 18,
   "id": "5af382ae",
   "metadata": {},
   "outputs": [
    {
     "data": {
      "text/plain": [
       "Index(['Rotation speed(rps)', 'Axial\\npressure(Mpa)', 'Yield\\nstrength(Mpa)',\n",
       "       'Tempearture'],\n",
       "      dtype='object')"
      ]
     },
     "execution_count": 18,
     "metadata": {},
     "output_type": "execute_result"
    }
   ],
   "source": [
    "#Now we Will select the  top 4 important features\n",
    "from sklearn.feature_selection import SelectKBest\n",
    "sel_five_cols = SelectKBest(mutual_info_classif, k=4)\n",
    "sel_five_cols.fit(X_train, Y_train)\n",
    "X_train.columns[sel_five_cols.get_support()]"
   ]
  },
  {
   "cell_type": "code",
   "execution_count": 19,
   "id": "d1319857",
   "metadata": {},
   "outputs": [
    {
     "data": {
      "image/png": "[encoded data removed]",
      "text/plain": [
       "<Figure size 800x700 with 2 Axes>"
      ]
     },
     "metadata": {},
     "output_type": "display_data"
    }
   ],
   "source": [
    "# using Pearson corelation\n",
    "plt.figure(figsize=(8,7))\n",
    "cor=X_train.corr()\n",
    "sns.heatmap(cor,annot=True,cmap=plt.cm.CMRmap_r)\n",
    "plt.show()"
   ]
  },
  {
   "cell_type": "code",
   "execution_count": 20,
   "id": "f9d10111",
   "metadata": {},
   "outputs": [],
   "source": [
    "# with the following function we can select highly correlated features\n",
    "# it will remove the first feature that is correlated with anything other feature\n",
    "\n",
    "def correlation(dataset, threshold):\n",
    "    col_corr = set()  # Set of all the names of correlated columns\n",
    "    corr_matrix = dataset.corr()\n",
    "    for i in range(len(corr_matrix.columns)):\n",
    "        for j in range(i):\n",
    "            if (corr_matrix.iloc[i, j]) > threshold: # we are interested in absolute coeff value\n",
    "                colname = corr_matrix.columns[i]  # getting the name of column\n",
    "                col_corr.add(colname)\n",
    "    return col_corr"
   ]
  },
  {
   "cell_type": "code",
   "execution_count": 21,
   "id": "18fb3a0f",
   "metadata": {},
   "outputs": [
    {
     "data": {
      "text/plain": [
       "3"
      ]
     },
     "execution_count": 21,
     "metadata": {},
     "output_type": "execute_result"
    }
   ],
   "source": [
    "corr_features = correlation(X_train, 0.6)\n",
    "len(set(corr_features))"
   ]
  },
  {
   "cell_type": "code",
   "execution_count": 22,
   "id": "2efe6c6a",
   "metadata": {},
   "outputs": [
    {
     "data": {
      "text/plain": [
       "{'Pin root\\nradius(m)', 'Shoulder\\nradius(m)', 'pin tip radius(m)'}"
      ]
     },
     "execution_count": 22,
     "metadata": {},
     "output_type": "execute_result"
    }
   ],
   "source": [
    "corr_features"
   ]
  },
  {
   "cell_type": "code",
   "execution_count": 23,
   "id": "672bdb68",
   "metadata": {},
   "outputs": [
    {
     "data": {
      "text/html": [
       "<div>\n",
       "<style scoped>\n",
       "    .dataframe tbody tr th:only-of-type {\n",
       "        vertical-align: middle;\n",
       "    }\n",
       "\n",
       "    .dataframe tbody tr th {\n",
       "        vertical-align: top;\n",
       "    }\n",
       "\n",
       "    .dataframe thead th {\n",
       "        text-align: right;\n",
       "    }\n",
       "</style>\n",
       "<table border=\"1\" class=\"dataframe\">\n",
       "  <thead>\n",
       "    <tr style=\"text-align: right;\">\n",
       "      <th></th>\n",
       "      <th>Welding speed(m/s)</th>\n",
       "      <th>Rotation speed(rps)</th>\n",
       "      <th>plate thickness(m)</th>\n",
       "      <th>Axial\\npressure(Mpa)</th>\n",
       "      <th>Tilt angle(degree)</th>\n",
       "      <th>Thermal\\ndiffusivity(m2/s)</th>\n",
       "      <th>Yield\\nstrength(Mpa)</th>\n",
       "      <th>Tempearture</th>\n",
       "    </tr>\n",
       "  </thead>\n",
       "  <tbody>\n",
       "    <tr>\n",
       "      <th>55</th>\n",
       "      <td>0.00200</td>\n",
       "      <td>18.34</td>\n",
       "      <td>0.0080</td>\n",
       "      <td>26.50</td>\n",
       "      <td>2.0</td>\n",
       "      <td>0.000049</td>\n",
       "      <td>352</td>\n",
       "      <td>720.14</td>\n",
       "    </tr>\n",
       "    <tr>\n",
       "      <th>100</th>\n",
       "      <td>0.00150</td>\n",
       "      <td>20.00</td>\n",
       "      <td>0.0021</td>\n",
       "      <td>23.59</td>\n",
       "      <td>2.5</td>\n",
       "      <td>0.000069</td>\n",
       "      <td>276</td>\n",
       "      <td>716.94</td>\n",
       "    </tr>\n",
       "    <tr>\n",
       "      <th>51</th>\n",
       "      <td>0.00150</td>\n",
       "      <td>15.00</td>\n",
       "      <td>0.0080</td>\n",
       "      <td>26.50</td>\n",
       "      <td>2.0</td>\n",
       "      <td>0.000049</td>\n",
       "      <td>352</td>\n",
       "      <td>634.05</td>\n",
       "    </tr>\n",
       "    <tr>\n",
       "      <th>70</th>\n",
       "      <td>0.00333</td>\n",
       "      <td>16.68</td>\n",
       "      <td>0.0040</td>\n",
       "      <td>13.00</td>\n",
       "      <td>2.0</td>\n",
       "      <td>0.000069</td>\n",
       "      <td>276</td>\n",
       "      <td>479.07</td>\n",
       "    </tr>\n",
       "    <tr>\n",
       "      <th>21</th>\n",
       "      <td>0.00167</td>\n",
       "      <td>20.00</td>\n",
       "      <td>0.0060</td>\n",
       "      <td>7.86</td>\n",
       "      <td>2.0</td>\n",
       "      <td>0.000050</td>\n",
       "      <td>324</td>\n",
       "      <td>656.54</td>\n",
       "    </tr>\n",
       "  </tbody>\n",
       "</table>\n",
       "</div>"
      ],
      "text/plain": [
       "     Welding speed(m/s)  Rotation speed(rps)  plate thickness(m)  \\\n",
       "55              0.00200                18.34              0.0080   \n",
       "100             0.00150                20.00              0.0021   \n",
       "51              0.00150                15.00              0.0080   \n",
       "70              0.00333                16.68              0.0040   \n",
       "21              0.00167                20.00              0.0060   \n",
       "\n",
       "     Axial\\npressure(Mpa)  Tilt angle(degree)  Thermal\\ndiffusivity(m2/s)  \\\n",
       "55                  26.50                 2.0                    0.000049   \n",
       "100                 23.59                 2.5                    0.000069   \n",
       "51                  26.50                 2.0                    0.000049   \n",
       "70                  13.00                 2.0                    0.000069   \n",
       "21                   7.86                 2.0                    0.000050   \n",
       "\n",
       "     Yield\\nstrength(Mpa)  Tempearture  \n",
       "55                    352       720.14  \n",
       "100                   276       716.94  \n",
       "51                    352       634.05  \n",
       "70                    276       479.07  \n",
       "21                    324       656.54  "
      ]
     },
     "execution_count": 23,
     "metadata": {},
     "output_type": "execute_result"
    }
   ],
   "source": [
    "X_train=X_train.drop(corr_features,axis=1)\n",
    "X_test=X_test.drop(corr_features,axis=1)\n",
    "X_train.head()"
   ]
  },
  {
   "cell_type": "markdown",
   "id": "1cbfa703",
   "metadata": {},
   "source": [
    "Model Evaluations by various classification algos based on Feature selection"
   ]
  },
  {
   "cell_type": "markdown",
   "id": "e3bf05fb",
   "metadata": {},
   "source": [
    "1. Evaluating by Logistic Regression "
   ]
  },
  {
   "cell_type": "code",
   "execution_count": 24,
   "id": "d01cfb4f",
   "metadata": {},
   "outputs": [
    {
     "name": "stderr",
     "output_type": "stream",
     "text": [
      "C:\\Users\\gupta\\AppData\\Local\\Programs\\Python\\Python311\\Lib\\site-packages\\sklearn\\linear_model\\_logistic.py:458: ConvergenceWarning: lbfgs failed to converge (status=1):\n",
      "STOP: TOTAL NO. of ITERATIONS REACHED LIMIT.\n",
      "\n",
      "Increase the number of iterations (max_iter) or scale the data as shown in:\n",
      "    https://scikit-learn.org/stable/modules/preprocessing.html\n",
      "Please also refer to the documentation for alternative solver options:\n",
      "    https://scikit-learn.org/stable/modules/linear_model.html#logistic-regression\n",
      "  n_iter_i = _check_optimize_result(\n"
     ]
    },
    {
     "data": {
      "text/html": [
       "<style>#sk-container-id-1 {color: black;background-color: white;}#sk-container-id-1 pre{padding: 0;}#sk-container-id-1 div.sk-toggleable {background-color: white;}#sk-container-id-1 label.sk-toggleable__label {cursor: pointer;display: block;width: 100%;margin-bottom: 0;padding: 0.3em;box-sizing: border-box;text-align: center;}#sk-container-id-1 label.sk-toggleable__label-arrow:before {content: \"▸\";float: left;margin-right: 0.25em;color: #696969;}#sk-container-id-1 label.sk-toggleable__label-arrow:hover:before {color: black;}#sk-container-id-1 div.sk-estimator:hover label.sk-toggleable__label-arrow:before {color: black;}#sk-container-id-1 div.sk-toggleable__content {max-height: 0;max-width: 0;overflow: hidden;text-align: left;background-color: #f0f8ff;}#sk-container-id-1 div.sk-toggleable__content pre {margin: 0.2em;color: black;border-radius: 0.25em;background-color: #f0f8ff;}#sk-container-id-1 input.sk-toggleable__control:checked~div.sk-toggleable__content {max-height: 200px;max-width: 100%;overflow: auto;}#sk-container-id-1 input.sk-toggleable__control:checked~label.sk-toggleable__label-arrow:before {content: \"▾\";}#sk-container-id-1 div.sk-estimator input.sk-toggleable__control:checked~label.sk-toggleable__label {background-color: #d4ebff;}#sk-container-id-1 div.sk-label input.sk-toggleable__control:checked~label.sk-toggleable__label {background-color: #d4ebff;}#sk-container-id-1 input.sk-hidden--visually {border: 0;clip: rect(1px 1px 1px 1px);clip: rect(1px, 1px, 1px, 1px);height: 1px;margin: -1px;overflow: hidden;padding: 0;position: absolute;width: 1px;}#sk-container-id-1 div.sk-estimator {font-family: monospace;background-color: #f0f8ff;border: 1px dotted black;border-radius: 0.25em;box-sizing: border-box;margin-bottom: 0.5em;}#sk-container-id-1 div.sk-estimator:hover {background-color: #d4ebff;}#sk-container-id-1 div.sk-parallel-item::after {content: \"\";width: 100%;border-bottom: 1px solid gray;flex-grow: 1;}#sk-container-id-1 div.sk-label:hover label.sk-toggleable__label {background-color: #d4ebff;}#sk-container-id-1 div.sk-serial::before {content: \"\";position: absolute;border-left: 1px solid gray;box-sizing: border-box;top: 0;bottom: 0;left: 50%;z-index: 0;}#sk-container-id-1 div.sk-serial {display: flex;flex-direction: column;align-items: center;background-color: white;padding-right: 0.2em;padding-left: 0.2em;position: relative;}#sk-container-id-1 div.sk-item {position: relative;z-index: 1;}#sk-container-id-1 div.sk-parallel {display: flex;align-items: stretch;justify-content: center;background-color: white;position: relative;}#sk-container-id-1 div.sk-item::before, #sk-container-id-1 div.sk-parallel-item::before {content: \"\";position: absolute;border-left: 1px solid gray;box-sizing: border-box;top: 0;bottom: 0;left: 50%;z-index: -1;}#sk-container-id-1 div.sk-parallel-item {display: flex;flex-direction: column;z-index: 1;position: relative;background-color: white;}#sk-container-id-1 div.sk-parallel-item:first-child::after {align-self: flex-end;width: 50%;}#sk-container-id-1 div.sk-parallel-item:last-child::after {align-self: flex-start;width: 50%;}#sk-container-id-1 div.sk-parallel-item:only-child::after {width: 0;}#sk-container-id-1 div.sk-dashed-wrapped {border: 1px dashed gray;margin: 0 0.4em 0.5em 0.4em;box-sizing: border-box;padding-bottom: 0.4em;background-color: white;}#sk-container-id-1 div.sk-label label {font-family: monospace;font-weight: bold;display: inline-block;line-height: 1.2em;}#sk-container-id-1 div.sk-label-container {text-align: center;}#sk-container-id-1 div.sk-container {/* jupyter's `normalize.less` sets `[hidden] { display: none; }` but bootstrap.min.css set `[hidden] { display: none !important; }` so we also need the `!important` here to be able to override the default hidden behavior on the sphinx rendered scikit-learn.org. See: https://github.com/scikit-learn/scikit-learn/issues/21755 */display: inline-block !important;position: relative;}#sk-container-id-1 div.sk-text-repr-fallback {display: none;}</style><div id=\"sk-container-id-1\" class=\"sk-top-container\"><div class=\"sk-text-repr-fallback\"><pre>LogisticRegression()</pre><b>In a Jupyter environment, please rerun this cell to show the HTML representation or trust the notebook. <br />On GitHub, the HTML representation is unable to render, please try loading this page with nbviewer.org.</b></div><div class=\"sk-container\" hidden><div class=\"sk-item\"><div class=\"sk-estimator sk-toggleable\"><input class=\"sk-toggleable__control sk-hidden--visually\" id=\"sk-estimator-id-1\" type=\"checkbox\" checked><label for=\"sk-estimator-id-1\" class=\"sk-toggleable__label sk-toggleable__label-arrow\">LogisticRegression</label><div class=\"sk-toggleable__content\"><pre>LogisticRegression()</pre></div></div></div></div></div>"
      ],
      "text/plain": [
       "LogisticRegression()"
      ]
     },
     "execution_count": 24,
     "metadata": {},
     "output_type": "execute_result"
    }
   ],
   "source": [
    "from sklearn.linear_model import LogisticRegression\n",
    "model_1=LogisticRegression()\n",
    "model_1.fit(X_train,Y_train)"
   ]
  },
  {
   "cell_type": "code",
   "execution_count": 25,
   "id": "0fe47f2d",
   "metadata": {},
   "outputs": [
    {
     "data": {
      "text/plain": [
       "0.9090909090909091"
      ]
     },
     "execution_count": 25,
     "metadata": {},
     "output_type": "execute_result"
    }
   ],
   "source": [
    "model_1.score(X_test,Y_test)"
   ]
  },
  {
   "cell_type": "markdown",
   "id": "cfd198b5",
   "metadata": {},
   "source": [
    "2.Evaluating by Decision Tree"
   ]
  },
  {
   "cell_type": "code",
   "execution_count": 26,
   "id": "18f396bf",
   "metadata": {},
   "outputs": [
    {
     "data": {
      "text/html": [
       "<style>#sk-container-id-2 {color: black;background-color: white;}#sk-container-id-2 pre{padding: 0;}#sk-container-id-2 div.sk-toggleable {background-color: white;}#sk-container-id-2 label.sk-toggleable__label {cursor: pointer;display: block;width: 100%;margin-bottom: 0;padding: 0.3em;box-sizing: border-box;text-align: center;}#sk-container-id-2 label.sk-toggleable__label-arrow:before {content: \"▸\";float: left;margin-right: 0.25em;color: #696969;}#sk-container-id-2 label.sk-toggleable__label-arrow:hover:before {color: black;}#sk-container-id-2 div.sk-estimator:hover label.sk-toggleable__label-arrow:before {color: black;}#sk-container-id-2 div.sk-toggleable__content {max-height: 0;max-width: 0;overflow: hidden;text-align: left;background-color: #f0f8ff;}#sk-container-id-2 div.sk-toggleable__content pre {margin: 0.2em;color: black;border-radius: 0.25em;background-color: #f0f8ff;}#sk-container-id-2 input.sk-toggleable__control:checked~div.sk-toggleable__content {max-height: 200px;max-width: 100%;overflow: auto;}#sk-container-id-2 input.sk-toggleable__control:checked~label.sk-toggleable__label-arrow:before {content: \"▾\";}#sk-container-id-2 div.sk-estimator input.sk-toggleable__control:checked~label.sk-toggleable__label {background-color: #d4ebff;}#sk-container-id-2 div.sk-label input.sk-toggleable__control:checked~label.sk-toggleable__label {background-color: #d4ebff;}#sk-container-id-2 input.sk-hidden--visually {border: 0;clip: rect(1px 1px 1px 1px);clip: rect(1px, 1px, 1px, 1px);height: 1px;margin: -1px;overflow: hidden;padding: 0;position: absolute;width: 1px;}#sk-container-id-2 div.sk-estimator {font-family: monospace;background-color: #f0f8ff;border: 1px dotted black;border-radius: 0.25em;box-sizing: border-box;margin-bottom: 0.5em;}#sk-container-id-2 div.sk-estimator:hover {background-color: #d4ebff;}#sk-container-id-2 div.sk-parallel-item::after {content: \"\";width: 100%;border-bottom: 1px solid gray;flex-grow: 1;}#sk-container-id-2 div.sk-label:hover label.sk-toggleable__label {background-color: #d4ebff;}#sk-container-id-2 div.sk-serial::before {content: \"\";position: absolute;border-left: 1px solid gray;box-sizing: border-box;top: 0;bottom: 0;left: 50%;z-index: 0;}#sk-container-id-2 div.sk-serial {display: flex;flex-direction: column;align-items: center;background-color: white;padding-right: 0.2em;padding-left: 0.2em;position: relative;}#sk-container-id-2 div.sk-item {position: relative;z-index: 1;}#sk-container-id-2 div.sk-parallel {display: flex;align-items: stretch;justify-content: center;background-color: white;position: relative;}#sk-container-id-2 div.sk-item::before, #sk-container-id-2 div.sk-parallel-item::before {content: \"\";position: absolute;border-left: 1px solid gray;box-sizing: border-box;top: 0;bottom: 0;left: 50%;z-index: -1;}#sk-container-id-2 div.sk-parallel-item {display: flex;flex-direction: column;z-index: 1;position: relative;background-color: white;}#sk-container-id-2 div.sk-parallel-item:first-child::after {align-self: flex-end;width: 50%;}#sk-container-id-2 div.sk-parallel-item:last-child::after {align-self: flex-start;width: 50%;}#sk-container-id-2 div.sk-parallel-item:only-child::after {width: 0;}#sk-container-id-2 div.sk-dashed-wrapped {border: 1px dashed gray;margin: 0 0.4em 0.5em 0.4em;box-sizing: border-box;padding-bottom: 0.4em;background-color: white;}#sk-container-id-2 div.sk-label label {font-family: monospace;font-weight: bold;display: inline-block;line-height: 1.2em;}#sk-container-id-2 div.sk-label-container {text-align: center;}#sk-container-id-2 div.sk-container {/* jupyter's `normalize.less` sets `[hidden] { display: none; }` but bootstrap.min.css set `[hidden] { display: none !important; }` so we also need the `!important` here to be able to override the default hidden behavior on the sphinx rendered scikit-learn.org. See: https://github.com/scikit-learn/scikit-learn/issues/21755 */display: inline-block !important;position: relative;}#sk-container-id-2 div.sk-text-repr-fallback {display: none;}</style><div id=\"sk-container-id-2\" class=\"sk-top-container\"><div class=\"sk-text-repr-fallback\"><pre>DecisionTreeClassifier()</pre><b>In a Jupyter environment, please rerun this cell to show the HTML representation or trust the notebook. <br />On GitHub, the HTML representation is unable to render, please try loading this page with nbviewer.org.</b></div><div class=\"sk-container\" hidden><div class=\"sk-item\"><div class=\"sk-estimator sk-toggleable\"><input class=\"sk-toggleable__control sk-hidden--visually\" id=\"sk-estimator-id-2\" type=\"checkbox\" checked><label for=\"sk-estimator-id-2\" class=\"sk-toggleable__label sk-toggleable__label-arrow\">DecisionTreeClassifier</label><div class=\"sk-toggleable__content\"><pre>DecisionTreeClassifier()</pre></div></div></div></div></div>"
      ],
      "text/plain": [
       "DecisionTreeClassifier()"
      ]
     },
     "execution_count": 26,
     "metadata": {},
     "output_type": "execute_result"
    }
   ],
   "source": [
    "from sklearn import tree\n",
    "model_2=tree.DecisionTreeClassifier()\n",
    "model_2.fit(X_train,Y_train)"
   ]
  },
  {
   "cell_type": "code",
   "execution_count": 27,
   "id": "f47c61c4",
   "metadata": {},
   "outputs": [
    {
     "data": {
      "text/plain": [
       "0.8787878787878788"
      ]
     },
     "execution_count": 27,
     "metadata": {},
     "output_type": "execute_result"
    }
   ],
   "source": [
    "model_2.score(X_test,Y_test)"
   ]
  },
  {
   "cell_type": "code",
   "execution_count": 28,
   "id": "fc99282c",
   "metadata": {},
   "outputs": [
    {
     "data": {
      "text/plain": [
       "0.9696969696969697"
      ]
     },
     "execution_count": 28,
     "metadata": {},
     "output_type": "execute_result"
    }
   ],
   "source": [
    "from sklearn.ensemble import RandomForestClassifier\n",
    "rf=RandomForestClassifier()\n",
    "rf.fit(X_train,Y_train)\n",
    "rf.score(X_test,Y_test)"
   ]
  },
  {
   "cell_type": "markdown",
   "id": "1379dc07",
   "metadata": {},
   "source": [
    "Now we are making model based on Metallographic Parameters- some of the important metallographic params-Rotation speed,welding speed,Tilt angle,Axial pressure."
   ]
  },
  {
   "cell_type": "code",
   "execution_count": 29,
   "id": "835f43a3",
   "metadata": {},
   "outputs": [
    {
     "data": {
      "text/html": [
       "<div>\n",
       "<style scoped>\n",
       "    .dataframe tbody tr th:only-of-type {\n",
       "        vertical-align: middle;\n",
       "    }\n",
       "\n",
       "    .dataframe tbody tr th {\n",
       "        vertical-align: top;\n",
       "    }\n",
       "\n",
       "    .dataframe thead th {\n",
       "        text-align: right;\n",
       "    }\n",
       "</style>\n",
       "<table border=\"1\" class=\"dataframe\">\n",
       "  <thead>\n",
       "    <tr style=\"text-align: right;\">\n",
       "      <th></th>\n",
       "      <th>Rotation speed(rps)</th>\n",
       "      <th>Welding speed(m/s)</th>\n",
       "      <th>Tilt angle(degree)</th>\n",
       "      <th>Axial\\npressure(Mpa)</th>\n",
       "    </tr>\n",
       "  </thead>\n",
       "  <tbody>\n",
       "    <tr>\n",
       "      <th>0</th>\n",
       "      <td>13.33</td>\n",
       "      <td>0.000583</td>\n",
       "      <td>2.0</td>\n",
       "      <td>13.0</td>\n",
       "    </tr>\n",
       "    <tr>\n",
       "      <th>1</th>\n",
       "      <td>13.33</td>\n",
       "      <td>0.001170</td>\n",
       "      <td>2.0</td>\n",
       "      <td>13.0</td>\n",
       "    </tr>\n",
       "    <tr>\n",
       "      <th>2</th>\n",
       "      <td>13.33</td>\n",
       "      <td>0.002330</td>\n",
       "      <td>2.0</td>\n",
       "      <td>13.0</td>\n",
       "    </tr>\n",
       "    <tr>\n",
       "      <th>3</th>\n",
       "      <td>16.67</td>\n",
       "      <td>0.000583</td>\n",
       "      <td>2.0</td>\n",
       "      <td>13.0</td>\n",
       "    </tr>\n",
       "    <tr>\n",
       "      <th>4</th>\n",
       "      <td>16.67</td>\n",
       "      <td>0.001170</td>\n",
       "      <td>2.0</td>\n",
       "      <td>13.0</td>\n",
       "    </tr>\n",
       "  </tbody>\n",
       "</table>\n",
       "</div>"
      ],
      "text/plain": [
       "   Rotation speed(rps)  Welding speed(m/s)  Tilt angle(degree)  \\\n",
       "0                13.33            0.000583                 2.0   \n",
       "1                13.33            0.001170                 2.0   \n",
       "2                13.33            0.002330                 2.0   \n",
       "3                16.67            0.000583                 2.0   \n",
       "4                16.67            0.001170                 2.0   \n",
       "\n",
       "   Axial\\npressure(Mpa)  \n",
       "0                  13.0  \n",
       "1                  13.0  \n",
       "2                  13.0  \n",
       "3                  13.0  \n",
       "4                  13.0  "
      ]
     },
     "execution_count": 29,
     "metadata": {},
     "output_type": "execute_result"
    }
   ],
   "source": [
    "X2=df[['Rotation speed(rps)','Welding speed(m/s)','Tilt angle(degree)','Axial\\npressure(Mpa)']]\n",
    "X2.head()"
   ]
  },
  {
   "cell_type": "code",
   "execution_count": 30,
   "id": "dbecafdf",
   "metadata": {},
   "outputs": [],
   "source": [
    "from sklearn.model_selection import train_test_split #using train test split to avoid overfitting\n",
    "X2_train, X2_test, Y2_train, Y2_test=train_test_split(X2,Y,test_size=0.3,random_state=20)"
   ]
  },
  {
   "cell_type": "code",
   "execution_count": 31,
   "id": "8f01f516",
   "metadata": {},
   "outputs": [
    {
     "data": {
      "text/plain": [
       "0.7575757575757576"
      ]
     },
     "execution_count": 31,
     "metadata": {},
     "output_type": "execute_result"
    }
   ],
   "source": [
    "from sklearn.linear_model import LogisticRegression # Evaluating by logistic Regression\n",
    "model_1=LogisticRegression()\n",
    "model_1.fit(X2_train,Y2_train)\n",
    "model_1.score(X2_test,Y2_test)"
   ]
  },
  {
   "cell_type": "code",
   "execution_count": 32,
   "id": "cf70160b",
   "metadata": {},
   "outputs": [
    {
     "data": {
      "text/plain": [
       "0.8181818181818182"
      ]
     },
     "execution_count": 32,
     "metadata": {},
     "output_type": "execute_result"
    }
   ],
   "source": [
    "from sklearn import tree # Evaluating by Decision Tree\n",
    "model_2=tree.DecisionTreeClassifier()\n",
    "model_2.fit(X2_train,Y2_train)\n",
    "model_2.score(X2_test,Y2_test)"
   ]
  },
  {
   "cell_type": "code",
   "execution_count": 33,
   "id": "cdfabfe8",
   "metadata": {},
   "outputs": [
    {
     "data": {
      "text/plain": [
       "0.8181818181818182"
      ]
     },
     "execution_count": 33,
     "metadata": {},
     "output_type": "execute_result"
    }
   ],
   "source": [
    "from sklearn.ensemble import RandomForestClassifier #Evaluating by Random Forest\n",
    "rf=RandomForestClassifier()\n",
    "rf.fit(X2_train,Y2_train)\n",
    "rf.score(X2_test,Y2_test)"
   ]
  },
  {
   "cell_type": "code",
   "execution_count": null,
   "id": "70faf153",
   "metadata": {},
   "outputs": [],
   "source": []
  }
 ],
 "metadata": {
  "kernelspec": {
   "display_name": "Python 3 (ipykernel)",
   "language": "python",
   "name": "python3"
  },
  "language_info": {
   "codemirror_mode": {
    "name": "ipython",
    "version": 3
   },
   "file_extension": ".py",
   "mimetype": "text/x-python",
   "name": "python",
   "nbconvert_exporter": "python",
   "pygments_lexer": "ipython3",
   "version": "3.11.1"
  }
 },
 "nbformat": 4,
 "nbformat_minor": 5
}
